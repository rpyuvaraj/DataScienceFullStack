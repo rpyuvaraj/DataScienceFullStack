{
 "cells": [
  {
   "cell_type": "code",
   "execution_count": null,
   "metadata": {},
   "outputs": [],
   "source": [
    "# 1.What are the two values of the Boolean data type? How do you write them?\n",
    "\n",
    "'''\n",
    "True\n",
    "False\n",
    "\n",
    "'''\n"
   ]
  },
  {
   "cell_type": "code",
   "execution_count": null,
   "metadata": {},
   "outputs": [],
   "source": [
    "# 2. What are the three different types of Boolean operators?\n",
    "\n",
    "'''\n",
    "AND\n",
    "OR\n",
    "NOT\n",
    "\n",
    "'''\n"
   ]
  },
  {
   "cell_type": "code",
   "execution_count": null,
   "metadata": {},
   "outputs": [],
   "source": [
    "# 3. Make a list of each Boolean operator's truth tables \n",
    "# (i.e. every possible combination of Boolean values for the operator and what it evaluate )."
   ]
  },
  {
   "cell_type": "markdown",
   "metadata": {},
   "source": [
    "\n",
    "<table>\n",
    "    <tr>\n",
    "        <th>OperatorX</th> <th>X</th> <th>Y</th><th>Result</th>\n",
    "    </tr>\n",
    "    <tr>\n",
    "        <td>X AND Y</td><td>True</td><td>True</td><td>True</td>\n",
    "    </tr>\n",
    "    <tr>\n",
    "        <td>X AND Y</td><td>True</td><td>False</td><td>False</td>\n",
    "    </tr>\n",
    "    <tr>\n",
    "        <td>X AND Y</td><td>False</td><td>True</td><td>False</td>\n",
    "    </tr>\n",
    "    <tr>\n",
    "        <td>X AND Y</td><td>False</td><td>False</td><td>False</td>\n",
    "    </tr>\n",
    "    <tr>\n",
    "        <td>X OR Y</td><td>True</td><td>True</td><td>True</td>\n",
    "    </tr>\n",
    "    <tr>\n",
    "        <td>X OR Y</td><td>True</td><td>False</td><td>True</td>\n",
    "    </tr>\n",
    "    <tr>\n",
    "        <td>X OR Y</td><td>False</td><td>True</td><td>True</td>\n",
    "    </tr>\n",
    "    <tr>\n",
    "        <td>X OR Y</td><td>False</td><td>False</td><td>False</td>\n",
    "    </tr>\n",
    "    <tr>\n",
    "        <td>NOT X</td><td>True</td><td></td><td>False</td>\n",
    "    </tr>\n",
    "    <tr>\n",
    "        <td>NOT X</td><td>False</td><td></td><td>True</td>\n",
    "    </tr>\n",
    "    <tr>\n",
    "        <td>NOT Y</td><td></td><td>True</td><td>False</td>\n",
    "    </tr>\n",
    "    <tr>\n",
    "        <td>NOT Y</td><td></td><td>False</td><td>True</td>\n",
    "    </tr>\n",
    "    \n"
   ]
  },
  {
   "cell_type": "code",
   "execution_count": null,
   "metadata": {},
   "outputs": [],
   "source": [
    "# 4. What are the values of the following expressions?\n",
    "# (5 > 4) and (3 == 5) \n",
    "# not (5 > 4)\n",
    "# (5 > 4) or (3 == 5)\n",
    "# not ((5 > 4) or (3 == 5))\n",
    "# (True and True) and (True == False)\n",
    "# (not False) or (not True)\n",
    "\n",
    "'''\n",
    "False\n",
    "False\n",
    "True\n",
    "False \n",
    "False\n",
    "True\n",
    "'''"
   ]
  },
  {
   "cell_type": "code",
   "execution_count": 1,
   "metadata": {},
   "outputs": [],
   "source": [
    "# 5. What are the six comparison operators?\n",
    "\n",
    "'''\n",
    "_____________________________________\n",
    "Operator     Name\n",
    "_____________________________________\n",
    "\n",
    "==           Equal to\n",
    "!=           Not Equal to\n",
    "<            Less than \n",
    "<=           Less than or Equal to\n",
    ">            Greater than\n",
    ">=           Greater than or Equal to\n",
    "_____________________________________\n",
    "'''"
   ]
  },
  {
   "cell_type": "code",
   "execution_count": 2,
   "metadata": {},
   "outputs": [],
   "source": [
    "# 6. How do you tell the difference between the equal to and assignment operators?\n",
    "# Describe a condition and when you would use one.\n",
    "\n",
    "\n",
    "'''\n",
    "Equal to is mentioned as two equal sign ==\n",
    "Assignment uses single equal to sign =\n",
    "\n",
    "'''"
   ]
  },
  {
   "cell_type": "code",
   "execution_count": null,
   "metadata": {},
   "outputs": [],
   "source": [
    "# 7. Identify the three blocks in this code:\n",
    "# spam = 0\n",
    "# if spam == 10:\n",
    "# print('eggs')\n",
    "# if spam > 5:\n",
    "# print('bacon')\n",
    "# else:\n",
    "# print('ham')\n",
    "# print('spam')\n",
    "# print('spam')\n",
    "\n",
    "\n",
    "'''\n",
    "block 1: \n",
    "# if spam == 10:\n",
    "# print('eggs')\n",
    "\n",
    "block 2:\n",
    "# if spam > 5:\n",
    "# print('bacon')\n",
    "\n",
    "block 3:\n",
    "# else:\n",
    "# print('ham')\n",
    "# print('spam')\n",
    "# print('spam')\n",
    "\n",
    "\n",
    "'''"
   ]
  },
  {
   "cell_type": "code",
   "execution_count": null,
   "metadata": {},
   "outputs": [],
   "source": [
    "# 8. Write code that prints Hello if 1 is stored in spam, prints Howdy if 2 is stored in spam, and prints Greetings! if anything else is stored in spam.\n",
    "\n",
    "if (spam == 1):\n",
    "    print(1)\n",
    "elif (spam == 2):\n",
    "    print(1)\n",
    "else:\n",
    "    print(\"Greetings!\")"
   ]
  },
  {
   "cell_type": "code",
   "execution_count": null,
   "metadata": {},
   "outputs": [],
   "source": [
    "# 9.If your programme is stuck in an endless loop, what keys you’ll press?\n",
    "\n",
    "'''\n",
    "\n",
    "Control + C \n",
    "\n",
    "'''"
   ]
  },
  {
   "cell_type": "code",
   "execution_count": null,
   "metadata": {},
   "outputs": [],
   "source": [
    "# 10. How can you tell the difference between break and continue?\n",
    "\n",
    "'''\n",
    "\n",
    "break statement is used to break the code out of for or while loop \n",
    "Continue will skip the specific iteration of the loop and continue with a next iteration\n",
    "'''"
   ]
  },
  {
   "cell_type": "code",
   "execution_count": null,
   "metadata": {},
   "outputs": [],
   "source": [
    "# 11. In a for loop, what is the difference between range(10), range(0, 10), and range(0, 10, 1)?\n",
    "\n",
    "'''\n",
    "The value for all three are the same: range(10), range(0, 10), and range(0, 10, 1)\n",
    "\n",
    "\n",
    "'''"
   ]
  },
  {
   "cell_type": "code",
   "execution_count": 4,
   "metadata": {},
   "outputs": [
    {
     "name": "stdout",
     "output_type": "stream",
     "text": [
      "1\n",
      "2\n",
      "3\n",
      "4\n",
      "5\n",
      "6\n",
      "7\n",
      "8\n",
      "9\n",
      "10\n"
     ]
    }
   ],
   "source": [
    "# 12. Write a short program that prints the numbers 1 to 10 using a for loop. \n",
    "# Then write an equivalent program that prints the numbers 1 to 10 using a while loop.\n",
    "\n",
    "\n",
    "# For loop\n",
    "for i in range(1,11):\n",
    "    print(i)\n",
    "\n",
    "# While loop\n",
    "i=1\n",
    "while i<=10:\n",
    "    print(i)\n",
    "    i = i+1"
   ]
  },
  {
   "cell_type": "code",
   "execution_count": null,
   "metadata": {},
   "outputs": [],
   "source": [
    "# 13. If you had a function named bacon() inside a module named spam, how would you call it after importing spam?\n",
    "\n",
    "'''\n",
    "\n",
    "Call the method following the module name\n",
    "\n",
    "spam.bacon()\n",
    "\n",
    "'''"
   ]
  }
 ],
 "metadata": {
  "kernelspec": {
   "display_name": "Python 3",
   "language": "python",
   "name": "python3"
  },
  "language_info": {
   "codemirror_mode": {
    "name": "ipython",
    "version": 3
   },
   "file_extension": ".py",
   "mimetype": "text/x-python",
   "name": "python",
   "nbconvert_exporter": "python",
   "pygments_lexer": "ipython3",
   "version": "3.8.5"
  }
 },
 "nbformat": 4,
 "nbformat_minor": 4
}
